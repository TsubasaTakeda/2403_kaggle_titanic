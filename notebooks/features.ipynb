{
 "cells": [
  {
   "cell_type": "markdown",
   "metadata": {},
   "source": [
    "# データの特徴整理"
   ]
  },
  {
   "cell_type": "markdown",
   "metadata": {},
   "source": [
    "## パッケージのインポート"
   ]
  },
  {
   "cell_type": "code",
   "execution_count": 1,
   "metadata": {},
   "outputs": [],
   "source": [
    "import polars as pl \n",
    "import pygwalker as pyg"
   ]
  },
  {
   "cell_type": "markdown",
   "metadata": {},
   "source": [
    "## データの読み込み"
   ]
  },
  {
   "cell_type": "code",
   "execution_count": 3,
   "metadata": {},
   "outputs": [
    {
     "data": {
      "text/html": [
       "<div><style>\n",
       ".dataframe > thead > tr,\n",
       ".dataframe > tbody > tr {\n",
       "  text-align: right;\n",
       "  white-space: pre-wrap;\n",
       "}\n",
       "</style>\n",
       "<small>shape: (891, 12)</small><table border=\"1\" class=\"dataframe\"><thead><tr><th>PassengerId</th><th>Survived</th><th>Pclass</th><th>Name</th><th>Sex</th><th>Age</th><th>SibSp</th><th>Parch</th><th>Ticket</th><th>Fare</th><th>Cabin</th><th>Embarked</th></tr><tr><td>i64</td><td>i64</td><td>i64</td><td>str</td><td>str</td><td>f64</td><td>i64</td><td>i64</td><td>str</td><td>f64</td><td>str</td><td>str</td></tr></thead><tbody><tr><td>1</td><td>0</td><td>3</td><td>&quot;Braund, Mr. Ow…</td><td>&quot;male&quot;</td><td>22.0</td><td>1</td><td>0</td><td>&quot;A/5 21171&quot;</td><td>7.25</td><td>null</td><td>&quot;S&quot;</td></tr><tr><td>2</td><td>1</td><td>1</td><td>&quot;Cumings, Mrs. …</td><td>&quot;female&quot;</td><td>38.0</td><td>1</td><td>0</td><td>&quot;PC 17599&quot;</td><td>71.2833</td><td>&quot;C85&quot;</td><td>&quot;C&quot;</td></tr><tr><td>3</td><td>1</td><td>3</td><td>&quot;Heikkinen, Mis…</td><td>&quot;female&quot;</td><td>26.0</td><td>0</td><td>0</td><td>&quot;STON/O2. 31012…</td><td>7.925</td><td>null</td><td>&quot;S&quot;</td></tr><tr><td>4</td><td>1</td><td>1</td><td>&quot;Futrelle, Mrs.…</td><td>&quot;female&quot;</td><td>35.0</td><td>1</td><td>0</td><td>&quot;113803&quot;</td><td>53.1</td><td>&quot;C123&quot;</td><td>&quot;S&quot;</td></tr><tr><td>5</td><td>0</td><td>3</td><td>&quot;Allen, Mr. Wil…</td><td>&quot;male&quot;</td><td>35.0</td><td>0</td><td>0</td><td>&quot;373450&quot;</td><td>8.05</td><td>null</td><td>&quot;S&quot;</td></tr><tr><td>&hellip;</td><td>&hellip;</td><td>&hellip;</td><td>&hellip;</td><td>&hellip;</td><td>&hellip;</td><td>&hellip;</td><td>&hellip;</td><td>&hellip;</td><td>&hellip;</td><td>&hellip;</td><td>&hellip;</td></tr><tr><td>887</td><td>0</td><td>2</td><td>&quot;Montvila, Rev.…</td><td>&quot;male&quot;</td><td>27.0</td><td>0</td><td>0</td><td>&quot;211536&quot;</td><td>13.0</td><td>null</td><td>&quot;S&quot;</td></tr><tr><td>888</td><td>1</td><td>1</td><td>&quot;Graham, Miss. …</td><td>&quot;female&quot;</td><td>19.0</td><td>0</td><td>0</td><td>&quot;112053&quot;</td><td>30.0</td><td>&quot;B42&quot;</td><td>&quot;S&quot;</td></tr><tr><td>889</td><td>0</td><td>3</td><td>&quot;Johnston, Miss…</td><td>&quot;female&quot;</td><td>null</td><td>1</td><td>2</td><td>&quot;W./C. 6607&quot;</td><td>23.45</td><td>null</td><td>&quot;S&quot;</td></tr><tr><td>890</td><td>1</td><td>1</td><td>&quot;Behr, Mr. Karl…</td><td>&quot;male&quot;</td><td>26.0</td><td>0</td><td>0</td><td>&quot;111369&quot;</td><td>30.0</td><td>&quot;C148&quot;</td><td>&quot;C&quot;</td></tr><tr><td>891</td><td>0</td><td>3</td><td>&quot;Dooley, Mr. Pa…</td><td>&quot;male&quot;</td><td>32.0</td><td>0</td><td>0</td><td>&quot;370376&quot;</td><td>7.75</td><td>null</td><td>&quot;Q&quot;</td></tr></tbody></table></div>"
      ],
      "text/plain": [
       "shape: (891, 12)\n",
       "┌─────────────┬──────────┬────────┬──────────────────┬───┬────────────┬─────────┬───────┬──────────┐\n",
       "│ PassengerId ┆ Survived ┆ Pclass ┆ Name             ┆ … ┆ Ticket     ┆ Fare    ┆ Cabin ┆ Embarked │\n",
       "│ ---         ┆ ---      ┆ ---    ┆ ---              ┆   ┆ ---        ┆ ---     ┆ ---   ┆ ---      │\n",
       "│ i64         ┆ i64      ┆ i64    ┆ str              ┆   ┆ str        ┆ f64     ┆ str   ┆ str      │\n",
       "╞═════════════╪══════════╪════════╪══════════════════╪═══╪════════════╪═════════╪═══════╪══════════╡\n",
       "│ 1           ┆ 0        ┆ 3      ┆ Braund, Mr. Owen ┆ … ┆ A/5 21171  ┆ 7.25    ┆ null  ┆ S        │\n",
       "│             ┆          ┆        ┆ Harris           ┆   ┆            ┆         ┆       ┆          │\n",
       "│ 2           ┆ 1        ┆ 1      ┆ Cumings, Mrs.    ┆ … ┆ PC 17599   ┆ 71.2833 ┆ C85   ┆ C        │\n",
       "│             ┆          ┆        ┆ John Bradley     ┆   ┆            ┆         ┆       ┆          │\n",
       "│             ┆          ┆        ┆ (Flor…           ┆   ┆            ┆         ┆       ┆          │\n",
       "│ 3           ┆ 1        ┆ 3      ┆ Heikkinen, Miss. ┆ … ┆ STON/O2.   ┆ 7.925   ┆ null  ┆ S        │\n",
       "│             ┆          ┆        ┆ Laina            ┆   ┆ 3101282    ┆         ┆       ┆          │\n",
       "│ 4           ┆ 1        ┆ 1      ┆ Futrelle, Mrs.   ┆ … ┆ 113803     ┆ 53.1    ┆ C123  ┆ S        │\n",
       "│             ┆          ┆        ┆ Jacques Heath    ┆   ┆            ┆         ┆       ┆          │\n",
       "│             ┆          ┆        ┆ (Li…             ┆   ┆            ┆         ┆       ┆          │\n",
       "│ 5           ┆ 0        ┆ 3      ┆ Allen, Mr.       ┆ … ┆ 373450     ┆ 8.05    ┆ null  ┆ S        │\n",
       "│             ┆          ┆        ┆ William Henry    ┆   ┆            ┆         ┆       ┆          │\n",
       "│ …           ┆ …        ┆ …      ┆ …                ┆ … ┆ …          ┆ …       ┆ …     ┆ …        │\n",
       "│ 887         ┆ 0        ┆ 2      ┆ Montvila, Rev.   ┆ … ┆ 211536     ┆ 13.0    ┆ null  ┆ S        │\n",
       "│             ┆          ┆        ┆ Juozas           ┆   ┆            ┆         ┆       ┆          │\n",
       "│ 888         ┆ 1        ┆ 1      ┆ Graham, Miss.    ┆ … ┆ 112053     ┆ 30.0    ┆ B42   ┆ S        │\n",
       "│             ┆          ┆        ┆ Margaret Edith   ┆   ┆            ┆         ┆       ┆          │\n",
       "│ 889         ┆ 0        ┆ 3      ┆ Johnston, Miss.  ┆ … ┆ W./C. 6607 ┆ 23.45   ┆ null  ┆ S        │\n",
       "│             ┆          ┆        ┆ Catherine Helen  ┆   ┆            ┆         ┆       ┆          │\n",
       "│             ┆          ┆        ┆ …                ┆   ┆            ┆         ┆       ┆          │\n",
       "│ 890         ┆ 1        ┆ 1      ┆ Behr, Mr. Karl   ┆ … ┆ 111369     ┆ 30.0    ┆ C148  ┆ C        │\n",
       "│             ┆          ┆        ┆ Howell           ┆   ┆            ┆         ┆       ┆          │\n",
       "│ 891         ┆ 0        ┆ 3      ┆ Dooley, Mr.      ┆ … ┆ 370376     ┆ 7.75    ┆ null  ┆ Q        │\n",
       "│             ┆          ┆        ┆ Patrick          ┆   ┆            ┆         ┆       ┆          │\n",
       "└─────────────┴──────────┴────────┴──────────────────┴───┴────────────┴─────────┴───────┴──────────┘"
      ]
     },
     "metadata": {},
     "output_type": "display_data"
    },
    {
     "data": {
      "text/html": [
       "<div><style>\n",
       ".dataframe > thead > tr,\n",
       ".dataframe > tbody > tr {\n",
       "  text-align: right;\n",
       "  white-space: pre-wrap;\n",
       "}\n",
       "</style>\n",
       "<small>shape: (418, 11)</small><table border=\"1\" class=\"dataframe\"><thead><tr><th>PassengerId</th><th>Pclass</th><th>Name</th><th>Sex</th><th>Age</th><th>SibSp</th><th>Parch</th><th>Ticket</th><th>Fare</th><th>Cabin</th><th>Embarked</th></tr><tr><td>i64</td><td>i64</td><td>str</td><td>str</td><td>f64</td><td>i64</td><td>i64</td><td>str</td><td>f64</td><td>str</td><td>str</td></tr></thead><tbody><tr><td>892</td><td>3</td><td>&quot;Kelly, Mr. Jam…</td><td>&quot;male&quot;</td><td>34.5</td><td>0</td><td>0</td><td>&quot;330911&quot;</td><td>7.8292</td><td>null</td><td>&quot;Q&quot;</td></tr><tr><td>893</td><td>3</td><td>&quot;Wilkes, Mrs. J…</td><td>&quot;female&quot;</td><td>47.0</td><td>1</td><td>0</td><td>&quot;363272&quot;</td><td>7.0</td><td>null</td><td>&quot;S&quot;</td></tr><tr><td>894</td><td>2</td><td>&quot;Myles, Mr. Tho…</td><td>&quot;male&quot;</td><td>62.0</td><td>0</td><td>0</td><td>&quot;240276&quot;</td><td>9.6875</td><td>null</td><td>&quot;Q&quot;</td></tr><tr><td>895</td><td>3</td><td>&quot;Wirz, Mr. Albe…</td><td>&quot;male&quot;</td><td>27.0</td><td>0</td><td>0</td><td>&quot;315154&quot;</td><td>8.6625</td><td>null</td><td>&quot;S&quot;</td></tr><tr><td>896</td><td>3</td><td>&quot;Hirvonen, Mrs.…</td><td>&quot;female&quot;</td><td>22.0</td><td>1</td><td>1</td><td>&quot;3101298&quot;</td><td>12.2875</td><td>null</td><td>&quot;S&quot;</td></tr><tr><td>&hellip;</td><td>&hellip;</td><td>&hellip;</td><td>&hellip;</td><td>&hellip;</td><td>&hellip;</td><td>&hellip;</td><td>&hellip;</td><td>&hellip;</td><td>&hellip;</td><td>&hellip;</td></tr><tr><td>1305</td><td>3</td><td>&quot;Spector, Mr. W…</td><td>&quot;male&quot;</td><td>null</td><td>0</td><td>0</td><td>&quot;A.5. 3236&quot;</td><td>8.05</td><td>null</td><td>&quot;S&quot;</td></tr><tr><td>1306</td><td>1</td><td>&quot;Oliva y Ocana,…</td><td>&quot;female&quot;</td><td>39.0</td><td>0</td><td>0</td><td>&quot;PC 17758&quot;</td><td>108.9</td><td>&quot;C105&quot;</td><td>&quot;C&quot;</td></tr><tr><td>1307</td><td>3</td><td>&quot;Saether, Mr. S…</td><td>&quot;male&quot;</td><td>38.5</td><td>0</td><td>0</td><td>&quot;SOTON/O.Q. 310…</td><td>7.25</td><td>null</td><td>&quot;S&quot;</td></tr><tr><td>1308</td><td>3</td><td>&quot;Ware, Mr. Fred…</td><td>&quot;male&quot;</td><td>null</td><td>0</td><td>0</td><td>&quot;359309&quot;</td><td>8.05</td><td>null</td><td>&quot;S&quot;</td></tr><tr><td>1309</td><td>3</td><td>&quot;Peter, Master.…</td><td>&quot;male&quot;</td><td>null</td><td>1</td><td>1</td><td>&quot;2668&quot;</td><td>22.3583</td><td>null</td><td>&quot;C&quot;</td></tr></tbody></table></div>"
      ],
      "text/plain": [
       "shape: (418, 11)\n",
       "┌─────────────┬────────┬────────────────────┬────────┬───┬────────────┬─────────┬───────┬──────────┐\n",
       "│ PassengerId ┆ Pclass ┆ Name               ┆ Sex    ┆ … ┆ Ticket     ┆ Fare    ┆ Cabin ┆ Embarked │\n",
       "│ ---         ┆ ---    ┆ ---                ┆ ---    ┆   ┆ ---        ┆ ---     ┆ ---   ┆ ---      │\n",
       "│ i64         ┆ i64    ┆ str                ┆ str    ┆   ┆ str        ┆ f64     ┆ str   ┆ str      │\n",
       "╞═════════════╪════════╪════════════════════╪════════╪═══╪════════════╪═════════╪═══════╪══════════╡\n",
       "│ 892         ┆ 3      ┆ Kelly, Mr. James   ┆ male   ┆ … ┆ 330911     ┆ 7.8292  ┆ null  ┆ Q        │\n",
       "│ 893         ┆ 3      ┆ Wilkes, Mrs. James ┆ female ┆ … ┆ 363272     ┆ 7.0     ┆ null  ┆ S        │\n",
       "│             ┆        ┆ (Ellen Needs)      ┆        ┆   ┆            ┆         ┆       ┆          │\n",
       "│ 894         ┆ 2      ┆ Myles, Mr. Thomas  ┆ male   ┆ … ┆ 240276     ┆ 9.6875  ┆ null  ┆ Q        │\n",
       "│             ┆        ┆ Francis            ┆        ┆   ┆            ┆         ┆       ┆          │\n",
       "│ 895         ┆ 3      ┆ Wirz, Mr. Albert   ┆ male   ┆ … ┆ 315154     ┆ 8.6625  ┆ null  ┆ S        │\n",
       "│ 896         ┆ 3      ┆ Hirvonen, Mrs.     ┆ female ┆ … ┆ 3101298    ┆ 12.2875 ┆ null  ┆ S        │\n",
       "│             ┆        ┆ Alexander (Helga … ┆        ┆   ┆            ┆         ┆       ┆          │\n",
       "│ …           ┆ …      ┆ …                  ┆ …      ┆ … ┆ …          ┆ …       ┆ …     ┆ …        │\n",
       "│ 1305        ┆ 3      ┆ Spector, Mr. Woolf ┆ male   ┆ … ┆ A.5. 3236  ┆ 8.05    ┆ null  ┆ S        │\n",
       "│ 1306        ┆ 1      ┆ Oliva y Ocana,     ┆ female ┆ … ┆ PC 17758   ┆ 108.9   ┆ C105  ┆ C        │\n",
       "│             ┆        ┆ Dona. Fermina      ┆        ┆   ┆            ┆         ┆       ┆          │\n",
       "│ 1307        ┆ 3      ┆ Saether, Mr. Simon ┆ male   ┆ … ┆ SOTON/O.Q. ┆ 7.25    ┆ null  ┆ S        │\n",
       "│             ┆        ┆ Sivertsen          ┆        ┆   ┆ 3101262    ┆         ┆       ┆          │\n",
       "│ 1308        ┆ 3      ┆ Ware, Mr.          ┆ male   ┆ … ┆ 359309     ┆ 8.05    ┆ null  ┆ S        │\n",
       "│             ┆        ┆ Frederick          ┆        ┆   ┆            ┆         ┆       ┆          │\n",
       "│ 1309        ┆ 3      ┆ Peter, Master.     ┆ male   ┆ … ┆ 2668       ┆ 22.3583 ┆ null  ┆ C        │\n",
       "│             ┆        ┆ Michael J          ┆        ┆   ┆            ┆         ┆       ┆          │\n",
       "└─────────────┴────────┴────────────────────┴────────┴───┴────────────┴─────────┴───────┴──────────┘"
      ]
     },
     "metadata": {},
     "output_type": "display_data"
    }
   ],
   "source": [
    "train_df = pl.read_csv('./../data/train.csv')\n",
    "test_df = pl.read_csv('./../data/test.csv')\n",
    "display(train_df)\n",
    "display(test_df)"
   ]
  },
  {
   "cell_type": "markdown",
   "metadata": {},
   "source": [
    "## データの可視化"
   ]
  },
  {
   "cell_type": "markdown",
   "metadata": {},
   "source": [
    "### 学習データ"
   ]
  },
  {
   "cell_type": "code",
   "execution_count": 4,
   "metadata": {},
   "outputs": [
    {
     "data": {
      "application/vnd.jupyter.widget-view+json": {
       "model_id": "e74cac6d892341d9a8815419b50a9591",
       "version_major": 2,
       "version_minor": 0
      },
      "text/plain": [
       "Box(children=(HTML(value='<div id=\"ifr-pyg-0006140eb8daf19bYtr7jIvRzgF5CfMp\" style=\"height: auto\">\\n    <head>…"
      ]
     },
     "metadata": {},
     "output_type": "display_data"
    },
    {
     "data": {
      "text/html": [],
      "text/plain": [
       "<IPython.core.display.HTML object>"
      ]
     },
     "metadata": {},
     "output_type": "display_data"
    },
    {
     "name": "stderr",
     "output_type": "stream",
     "text": [
      "ERROR: kanaries_api_key is not valid.\n",
      "Please set kanaries_api_key first.\n",
      "If you are not kanaries user, please register it from 'https://kanaries.net/home/access' \n",
      "Then refer 'https://github.com/Kanaries/pygwalker/wiki/How-to-get-api-key-of-kanaries%3F' to set kanaries_api_key. \n",
      "\n"
     ]
    }
   ],
   "source": [
    "gwalker = pyg.walk(train_df)"
   ]
  },
  {
   "cell_type": "code",
   "execution_count": null,
   "metadata": {},
   "outputs": [],
   "source": []
  }
 ],
 "metadata": {
  "kernelspec": {
   "display_name": ".venv",
   "language": "python",
   "name": "python3"
  },
  "language_info": {
   "codemirror_mode": {
    "name": "ipython",
    "version": 3
   },
   "file_extension": ".py",
   "mimetype": "text/x-python",
   "name": "python",
   "nbconvert_exporter": "python",
   "pygments_lexer": "ipython3",
   "version": "3.12.0"
  }
 },
 "nbformat": 4,
 "nbformat_minor": 2
}
